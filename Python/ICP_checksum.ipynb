{
 "cells": [
  {
   "cell_type": "code",
   "execution_count": 1,
   "metadata": {},
   "outputs": [],
   "source": [
    "D = int('0x180f', 0)\n",
    "H100 = int('0x100', 0)\n",
    "H1000 = int('0x1000', 0)\n",
    "HFFFF = int('0xffff', 0)\n",
    "\n",
    "def Asc(bytes_obj):\n",
    "    '''Get the int value of a char'''\n",
    "    if type(bytes_obj) == bytes:\n",
    "        return bytes_obj[0]\n",
    "    else:\n",
    "        return ord(bytes_obj[0])\n",
    "\n",
    "def Mid(string, integer, integer2):\n",
    "    '''Select a substring from a string'''\n",
    "    integer = integer - 1\n",
    "    return string[integer : integer+integer2]\n",
    "\n",
    "def gen_crc(icp_number):\n",
    "    \"\"\" Generate a checksum for an ICP\"\"\"\n",
    "    R = int('0', 0)    \n",
    "    CheckICP = icp_number\n",
    "    ICP_GEN_CRC = \"\"\n",
    "    IChar = 0\n",
    "    if len(CheckICP.strip()) < 12:\n",
    "        ICP_GEN_CRC = \"Insufficient Data\"\n",
    "    else:    \n",
    "        CheckICP = CheckICP[:12] + \"\\0\\0\\0\"    \n",
    "        #print('CheckICP: ' + str(CheckICP))\n",
    "        for I in range(0,108):\n",
    "            #print(I)\n",
    "            if I%8 == 0:\n",
    "                IChar = Asc(Mid(CheckICP, int((I/8)+1), 1))\n",
    "                #print('IChar: ' + str(IChar))\n",
    "            IChar = IChar * 2\n",
    "            #print('IChar: ' + str(IChar))\n",
    "            R = R * 2\n",
    "            #print('R: ' + str(R))\n",
    "            if int((IChar & H100) / 256.0) == 1:            \n",
    "                R = R + 1\n",
    "            if (R & H1000) > 0:\n",
    "                R = R ^ D\n",
    "        R = R & HFFFF\n",
    "        #print('R: ' + str(R))\n",
    "        CheckICP = (\"000\" + format(R,'x'))[-3:]\n",
    "        #print('CheckICP: ' + str(CheckICP))\n",
    "        ICP_GEN_CRC = CheckICP.upper()\n",
    "        #print('ICP_GEN_CRC: ' + str(ICP_GEN_CRC))\n",
    "    return ICP_GEN_CRC"
   ]
  }
 ],
 "metadata": {
  "kernelspec": {
   "display_name": "Python 3",
   "language": "python",
   "name": "python3"
  },
  "language_info": {
   "codemirror_mode": {
    "name": "ipython",
    "version": 3
   },
   "file_extension": ".py",
   "mimetype": "text/x-python",
   "name": "python",
   "nbconvert_exporter": "python",
   "pygments_lexer": "ipython3",
   "version": "3.6.4"
  }
 },
 "nbformat": 4,
 "nbformat_minor": 2
}
